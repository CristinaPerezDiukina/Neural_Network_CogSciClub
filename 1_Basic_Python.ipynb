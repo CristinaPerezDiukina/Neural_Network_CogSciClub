{
  "nbformat": 4,
  "nbformat_minor": 0,
  "metadata": {
    "kernelspec": {
      "display_name": "Python 3",
      "language": "python",
      "name": "python3"
    },
    "language_info": {
      "codemirror_mode": {
        "name": "ipython",
        "version": 3
      },
      "file_extension": ".py",
      "mimetype": "text/x-python",
      "name": "python",
      "nbconvert_exporter": "python",
      "pygments_lexer": "ipython3",
      "version": "3.7.3"
    },
    "colab": {
      "name": "1_Basic_Python.ipynb",
      "version": "0.3.2",
      "provenance": []
    }
  },
  "cells": [
    {
      "cell_type": "markdown",
      "metadata": {
        "id": "fEgJXo6yYemt",
        "colab_type": "text"
      },
      "source": [
        "### Date: 9/5/2019 Meeting\n",
        "### Author: Cristina Perez Diukina\n",
        "### Title: Intro to Python\n",
        " \n",
        "\n",
        "\n",
        "### Description: This is an overview of basic python\n",
        "\n",
        "After going through this notebook you will have a better understanding of the python language\n",
        "\n"
      ]
    },
    {
      "cell_type": "code",
      "metadata": {
        "id": "9g3PdLe-Yemy",
        "colab_type": "code",
        "outputId": "0d863be2-0d45-44db-9bbe-8117ab3f22e5",
        "colab": {
          "base_uri": "https://localhost:8080/",
          "height": 35
        }
      },
      "source": [
        "##What will this do?\n",
        "print(\"Hello world!\")"
      ],
      "execution_count": 0,
      "outputs": [
        {
          "output_type": "stream",
          "text": [
            "Hello world!\n"
          ],
          "name": "stdout"
        }
      ]
    },
    {
      "cell_type": "markdown",
      "metadata": {
        "id": "Sk4GDDpSYem6",
        "colab_type": "text"
      },
      "source": [
        "This prints out the text inside the function!"
      ]
    },
    {
      "cell_type": "code",
      "metadata": {
        "id": "V2eqPxuNYem8",
        "colab_type": "code",
        "outputId": "ae845a52-bbe0-41bb-d166-02887862b4f5",
        "colab": {}
      },
      "source": [
        "#We can actually store a text in a variable\n",
        "\n",
        "x=\"Cognitive Science Club is cool\"\n",
        "print(x)\n",
        "print(x)\n",
        "print(x)"
      ],
      "execution_count": 0,
      "outputs": [
        {
          "output_type": "stream",
          "text": [
            "Cognitive Science Club is cool\n",
            "Cognitive Science Club is cool\n",
            "Cognitive Science Club is cool\n"
          ],
          "name": "stdout"
        }
      ]
    },
    {
      "cell_type": "code",
      "metadata": {
        "id": "NcxG7cxYYenA",
        "colab_type": "code",
        "outputId": "4775b0fe-6400-4815-d953-f15f535f3bcb",
        "colab": {}
      },
      "source": [
        "x= 100+56\n",
        "print(x)"
      ],
      "execution_count": 0,
      "outputs": [
        {
          "output_type": "stream",
          "text": [
            "156\n"
          ],
          "name": "stdout"
        }
      ]
    },
    {
      "cell_type": "markdown",
      "metadata": {
        "id": "o2wawxFoYenE",
        "colab_type": "text"
      },
      "source": [
        "You can do algebraic manipulations in python very easily. It is very useful."
      ]
    },
    {
      "cell_type": "code",
      "metadata": {
        "id": "u8KZYmJTYenF",
        "colab_type": "code",
        "outputId": "06212011-6ed1-46ff-caee-6c359bd47451",
        "colab": {}
      },
      "source": [
        "x=5>4\n",
        "print(x)"
      ],
      "execution_count": 0,
      "outputs": [
        {
          "output_type": "stream",
          "text": [
            "True\n"
          ],
          "name": "stdout"
        }
      ]
    },
    {
      "cell_type": "markdown",
      "metadata": {
        "id": "_eWZOem3YenJ",
        "colab_type": "text"
      },
      "source": [
        "This prints out a boolean! 5 is greater than 4 and our output is True!"
      ]
    },
    {
      "cell_type": "markdown",
      "metadata": {
        "id": "C0ld3Yi2YenL",
        "colab_type": "text"
      },
      "source": [
        "The General flow of python is line by line.\n",
        "\n",
        "\n",
        "\n",
        "Let's talk about flow!\n",
        "How can you control the flow?\n",
        "Branching and looping is a great tool!\n",
        "Let's talk about branching first:"
      ]
    },
    {
      "cell_type": "code",
      "metadata": {
        "id": "_qjEdg2OYenM",
        "colab_type": "code",
        "outputId": "e79ae6cb-726b-4d5e-c6a0-c06c75f9c110",
        "colab": {}
      },
      "source": [
        "age = 14\n",
        "if age >=18:\n",
        "    print('Congrats you are an adult')\n",
        "else:\n",
        "    print('You are still a child!')"
      ],
      "execution_count": 0,
      "outputs": [
        {
          "output_type": "stream",
          "text": [
            "You are still a child!\n"
          ],
          "name": "stdout"
        }
      ]
    },
    {
      "cell_type": "markdown",
      "metadata": {
        "id": "sy2cdqi8YenR",
        "colab_type": "text"
      },
      "source": [
        "See the output is \"You are still a child!\" because 14<18 so it executes the code in the else block\n",
        "\n",
        "Now let's get into loops:"
      ]
    },
    {
      "cell_type": "code",
      "metadata": {
        "id": "KaNjXAdgYenS",
        "colab_type": "code",
        "outputId": "ce109c69-1c97-4506-f580-b1d7888ef28f",
        "colab": {}
      },
      "source": [
        "x=1\n",
        "while x!=3:\n",
        "    print(\"I'm looping!\")\n",
        "    x=x+1"
      ],
      "execution_count": 0,
      "outputs": [
        {
          "output_type": "stream",
          "text": [
            "I'm looping!\n",
            "I'm looping!\n"
          ],
          "name": "stdout"
        }
      ]
    },
    {
      "cell_type": "markdown",
      "metadata": {
        "id": "q6f5h7xVYenW",
        "colab_type": "text"
      },
      "source": [
        "See x was less than 3 two times so we went through the loop twice.\n",
        "We exited the loop as soon as x reached the value of 3."
      ]
    },
    {
      "cell_type": "markdown",
      "metadata": {
        "id": "IalB3SyCYenX",
        "colab_type": "text"
      },
      "source": [
        "Let's move on into functions\n",
        "For example: `print()` is a function.\n",
        "There are many, many functions in python.\n",
        "They hold variables and statements of execution.\n",
        "You can make your own functions!\n",
        "We are going to use collections of functions, called classes, collected in a library.\n",
        "We will use OpenCV to create a neural network.\n",
        "\n",
        "\n",
        "Let's create a function now:"
      ]
    },
    {
      "cell_type": "code",
      "metadata": {
        "id": "uNHtHk4CYenY",
        "colab_type": "code",
        "outputId": "b42d1034-7468-4338-c2a3-58467811cad2",
        "colab": {}
      },
      "source": [
        "def say_hello():\n",
        "    print('Hello!')\n",
        "    \n",
        "#let's call the function we just created   \n",
        "say_hello()\n",
        "\n",
        "\n",
        "\n",
        "    "
      ],
      "execution_count": 0,
      "outputs": [
        {
          "output_type": "stream",
          "text": [
            "Hello!\n"
          ],
          "name": "stdout"
        }
      ]
    },
    {
      "cell_type": "code",
      "metadata": {
        "id": "TXse5OMsYenb",
        "colab_type": "code",
        "outputId": "73a2e349-d402-4419-b8de-9706be1617e6",
        "colab": {}
      },
      "source": [
        "def greet(person):\n",
        "    print(\"Hey \" +person)\n",
        "    \n",
        "greet(\"Cristina\")\n",
        "    \n"
      ],
      "execution_count": 0,
      "outputs": [
        {
          "output_type": "stream",
          "text": [
            "Hey Cristina\n"
          ],
          "name": "stdout"
        }
      ]
    },
    {
      "cell_type": "code",
      "metadata": {
        "id": "BF5oHAdkYeng",
        "colab_type": "code",
        "outputId": "6e275b75-ffa1-43c1-ed43-1035e6de3698",
        "colab": {}
      },
      "source": [
        "def add(a,b):\n",
        "    return a+b\n",
        "\n",
        "x=add(2,3)\n",
        "\n",
        "print(x)\n",
        "    "
      ],
      "execution_count": 0,
      "outputs": [
        {
          "output_type": "stream",
          "text": [
            "5\n"
          ],
          "name": "stdout"
        }
      ]
    },
    {
      "cell_type": "markdown",
      "metadata": {
        "id": "VR-qUBGJYeni",
        "colab_type": "text"
      },
      "source": [
        "We have created functions with variables to pass in.\n",
        "\n",
        "Let's interact with the user now and ask for input:"
      ]
    },
    {
      "cell_type": "code",
      "metadata": {
        "id": "aJtZVccsYenk",
        "colab_type": "code",
        "outputId": "0d707ce4-17a4-4d7a-b26f-975baa33aa2e",
        "colab": {}
      },
      "source": [
        "num = input('Enter a number or press enter if done: ')"
      ],
      "execution_count": 0,
      "outputs": [
        {
          "output_type": "stream",
          "text": [
            "Enter a number or press enter if done: 2\n"
          ],
          "name": "stdout"
        }
      ]
    },
    {
      "cell_type": "code",
      "metadata": {
        "id": "DUkPpoNdYenn",
        "colab_type": "code",
        "outputId": "977bfd46-1469-468a-8a19-5ef0fb562981",
        "colab": {}
      },
      "source": [
        "print(num)"
      ],
      "execution_count": 0,
      "outputs": [
        {
          "output_type": "stream",
          "text": [
            "2\n"
          ],
          "name": "stdout"
        }
      ]
    },
    {
      "cell_type": "markdown",
      "metadata": {
        "id": "nxKJ9dmUYenr",
        "colab_type": "text"
      },
      "source": [
        "\n",
        "Let's make this a bit more complicated:\n",
        "We are going to combine our knowledge of loops and input!"
      ]
    },
    {
      "cell_type": "code",
      "metadata": {
        "id": "WZu9tJWAYens",
        "colab_type": "code",
        "outputId": "179445d8-f72c-4d4d-fa38-894127c41e5a",
        "colab": {}
      },
      "source": [
        "num = input('Enter a number or press enter if done: ')\n",
        "x=0\n",
        "while num != '':\n",
        "    \n",
        "    x+=int(num)\n",
        "    num = input('Enter a number or press enter if done: ')\n",
        "    \n",
        "print(x)\n",
        "    "
      ],
      "execution_count": 0,
      "outputs": [
        {
          "output_type": "stream",
          "text": [
            "Enter a number or press enter if done: 5\n",
            "Enter a number or press enter if done: 5\n",
            "Enter a number or press enter if done: 5\n",
            "Enter a number or press enter if done: \n",
            "15\n"
          ],
          "name": "stdout"
        }
      ]
    },
    {
      "cell_type": "code",
      "metadata": {
        "id": "Mebn9cEoYenw",
        "colab_type": "code",
        "colab": {}
      },
      "source": [
        "def promt_and_sum():\n",
        "    num = input('Enter a number or press enter if done: ')\n",
        "    x=0\n",
        "    while num != '':\n",
        "    \n",
        "        x+=int(num)\n",
        "        num = input('Enter a number or press enter if done: ')\n",
        "    \n",
        "    print(x)\n",
        "    \n",
        "    \n"
      ],
      "execution_count": 0,
      "outputs": []
    },
    {
      "cell_type": "markdown",
      "metadata": {
        "id": "snfkKMDRYeny",
        "colab_type": "text"
      },
      "source": [
        "We wraped our code into a function. Now this function will execute this code whenever it's called."
      ]
    },
    {
      "cell_type": "code",
      "metadata": {
        "id": "2FxMdbmQYen0",
        "colab_type": "code",
        "outputId": "5405ca91-cbae-45f8-f1e6-571c7f946476",
        "colab": {}
      },
      "source": [
        "promt_and_sum()"
      ],
      "execution_count": 0,
      "outputs": [
        {
          "output_type": "stream",
          "text": [
            "Enter a number or press enter if done: 5\n",
            "Enter a number or press enter if done: 5\n",
            "Enter a number or press enter if done: \n",
            "10\n"
          ],
          "name": "stdout"
        }
      ]
    },
    {
      "cell_type": "code",
      "metadata": {
        "id": "Kb3yhFU3Yen3",
        "colab_type": "code",
        "colab": {}
      },
      "source": [
        ""
      ],
      "execution_count": 0,
      "outputs": []
    }
  ]
}